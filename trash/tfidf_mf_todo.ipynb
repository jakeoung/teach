{
  "nbformat": 4,
  "nbformat_minor": 0,
  "metadata": {
    "colab": {
      "provenance": [],
      "authorship_tag": "ABX9TyMulbai2c0cX0OOsujjbT7r"
    },
    "kernelspec": {
      "name": "python3",
      "display_name": "Python 3"
    },
    "language_info": {
      "name": "python"
    }
  },
  "cells": [
    {
      "cell_type": "code",
      "execution_count": 12,
      "metadata": {
        "colab": {
          "base_uri": "https://localhost:8080/"
        },
        "id": "0Hvq9yhLIZ4P",
        "outputId": "52ce38a4-3526-4442-cad3-735be5f3f2c3"
      },
      "outputs": [
        {
          "output_type": "stream",
          "name": "stdout",
          "text": [
            "Topic-Word Matrix:\n",
            "Topic 0:\n",
            "Words: just, dont, like, im, think, know, good, car, ive, really\n",
            "\n",
            "Topic 1:\n",
            "Words: card, video, monitor, mb, vga, cards, drivers, color, ram, bus\n",
            "\n",
            "Topic 2:\n",
            "Words: god, jesus, bible, believe, faith, christian, christians, christ, does, gods\n",
            "\n",
            "Topic 3:\n",
            "Words: drive, scsi, drives, disk, hard, ide, controller, mb, floppy, mac\n",
            "\n",
            "Topic 4:\n",
            "Words: thanks, email, does, know, advance, hi, info, looking, address, anybody\n",
            "\n",
            "Topic 5:\n",
            "Words: gebcadredslpittedu, njxp, chastity, shameful, intellect, skepticism, surrender, gordon, banks, soon\n",
            "\n",
            "Topic 6:\n",
            "Words: windows, file, files, window, dos, program, use, using, problem, version\n",
            "\n",
            "Topic 7:\n",
            "Words: game, team, games, year, players, season, hockey, play, teams, win\n",
            "\n",
            "Topic 8:\n",
            "Words: key, chip, encryption, clipper, keys, use, escrow, government, algorithm, bit\n",
            "\n",
            "Topic 9:\n",
            "Words: people, government, israel, state, did, said, right, armenian, jews, israeli\n",
            "\n"
          ]
        }
      ],
      "source": [
        "import re\n",
        "import pandas as pd\n",
        "import numpy as np\n",
        "from sklearn.datasets import fetch_20newsgroups\n",
        "from sklearn.feature_extraction.text import TfidfVectorizer\n",
        "from sklearn.decomposition import NMF\n",
        "import altair as alt\n",
        "\n",
        "# Load text data\n",
        "dataset = fetch_20newsgroups(shuffle=True, random_state=42, remove=('headers', 'footers', 'quotes'))\n",
        "documents = dataset.data\n",
        "\n",
        "# Preprocess the text data\n",
        "def preprocess(text):\n",
        "    text = re.sub(r'[^a-zA-Z\\s]', '', text, re.I|re.A)\n",
        "    text = text.lower()\n",
        "    text = text.strip()\n",
        "    return text\n",
        "\n",
        "# Create TF-IDF matrix\n",
        "vectorizer = TfidfVectorizer(preprocessor=preprocess, stop_words='english', max_features=10000)\n",
        "X = vectorizer.fit_transform(documents)\n",
        "\n",
        "# Matrix factorization using Non-negative Matrix Factorization (NMF)\n",
        "num_topics = 10\n",
        "nmf_model = NMF(n_components=num_topics, random_state=42)\n",
        "W = nmf_model.fit_transform(X)\n",
        "H = nmf_model.components_\n",
        "\n",
        "# Print the topic-word matrix\n",
        "print(\"Topic-Word Matrix:\")\n",
        "for topic_idx, topic in enumerate(H):\n",
        "    print(f\"Topic {topic_idx}:\")\n",
        "    word_indices = np.argsort(topic)[::-1][:10]\n",
        "    words = [vectorizer.get_feature_names_out()[idx] for idx in word_indices]\n",
        "    print(f\"Words: {', '.join(words)}\")\n",
        "    print()\n",
        "\n",
        "# Visualize the topic-word matrix using Altair\n",
        "source = pd.DataFrame({\n",
        "    'topic': np.repeat(np.arange(num_topics), 10),\n",
        "    'word': np.concatenate([vectorizer.get_feature_names_out()[np.argsort(topic)[::-1]][:10] for topic in H]),\n",
        "    'value': np.concatenate([np.sort(topic)[::-1][:10] for topic in H])\n",
        "})"
      ]
    },
    {
      "cell_type": "code",
      "source": [
        "X.shape, W.shape, H.shape"
      ],
      "metadata": {
        "colab": {
          "base_uri": "https://localhost:8080/"
        },
        "id": "Bvtk3nP9JBsT",
        "outputId": "df0979b2-1ffe-43c2-f476-bea9ccac4bb6"
      },
      "execution_count": 9,
      "outputs": [
        {
          "output_type": "execute_result",
          "data": {
            "text/plain": [
              "((11314, 10000), (11314, 2), (2, 10000))"
            ]
          },
          "metadata": {},
          "execution_count": 9
        }
      ]
    },
    {
      "cell_type": "code",
      "source": [
        "chart = alt.Chart(source).mark_rect().encode(\n",
        "    x='word',\n",
        "    y='topic:O',\n",
        "    color='value:Q',\n",
        "    tooltip=['word', 'value']\n",
        ").properties(\n",
        "    width=800,\n",
        "    height=400,\n",
        "    title='Topic-Word Matrix'\n",
        ")\n",
        "\n",
        "chart.interactive()"
      ],
      "metadata": {
        "colab": {
          "base_uri": "https://localhost:8080/",
          "height": 173
        },
        "id": "GMk1LlVLI2zV",
        "outputId": "edb3b094-0bfd-4d8e-e455-e150a64ceaf3"
      },
      "execution_count": 10,
      "outputs": [
        {
          "output_type": "error",
          "ename": "AttributeError",
          "evalue": "module 'altair' has no attribute 'visualize'",
          "traceback": [
            "\u001b[0;31m---------------------------------------------------------------------------\u001b[0m",
            "\u001b[0;31mAttributeError\u001b[0m                            Traceback (most recent call last)",
            "\u001b[0;32m<ipython-input-10-eb1b30f017af>\u001b[0m in \u001b[0;36m<cell line: 14>\u001b[0;34m()\u001b[0m\n\u001b[1;32m     12\u001b[0m )\n\u001b[1;32m     13\u001b[0m \u001b[0;34m\u001b[0m\u001b[0m\n\u001b[0;32m---> 14\u001b[0;31m \u001b[0malt\u001b[0m\u001b[0;34m.\u001b[0m\u001b[0mvisualize\u001b[0m\u001b[0;34m(\u001b[0m\u001b[0;34m)\u001b[0m\u001b[0;34m\u001b[0m\u001b[0;34m\u001b[0m\u001b[0m\n\u001b[0m",
            "\u001b[0;31mAttributeError\u001b[0m: module 'altair' has no attribute 'visualize'"
          ]
        }
      ]
    },
    {
      "cell_type": "code",
      "source": [],
      "metadata": {
        "id": "z8Mu5Xc5ItUJ"
      },
      "execution_count": null,
      "outputs": []
    }
  ]
}