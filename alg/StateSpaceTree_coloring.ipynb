{
 "cells": [
  {
   "cell_type": "markdown",
   "metadata": {},
   "source": [
    "![](https://upload.wikimedia.org/wikipedia/commons/e/e0/Map_of_Australia.png)"
   ]
  },
  {
   "cell_type": "code",
   "execution_count": 2,
   "metadata": {},
   "outputs": [],
   "source": [
    "# ETL\n",
    "\n",
    "graph = {\n",
    "    'WA': ['NT', 'SA'],\n",
    "    'NT': ['WA', 'SA', 'Q'],\n",
    "    'SA': ['WA', 'NT', 'Q', 'NSW', 'V'],\n",
    "    'Q': ['NT', 'SA', 'NSW'],\n",
    "    'NSW': ['Q', 'SA', 'V'],\n",
    "    'V': ['SA', 'NSW'],\n",
    "    'T': []\n",
    "}"
   ]
  },
  {
   "cell_type": "code",
   "execution_count": 6,
   "metadata": {},
   "outputs": [
    {
     "name": "stdout",
     "output_type": "stream",
     "text": [
      "Map coloring solution:\n",
      "WA: Red\n",
      "SA: Green\n",
      "T: Red\n",
      "NSW: Blue\n",
      "Q: Red\n",
      "NT: Blue\n",
      "V: Red\n"
     ]
    }
   ],
   "source": [
    "\n",
    "def promising(graph, node, color, coloring):\n",
    "    \"\"\"Check if it's safe to color the node with the given color.\"\"\"\n",
    "    for neighbor in graph[node]:\n",
    "        if neighbor in coloring and coloring[neighbor] == color:\n",
    "            return False\n",
    "    return True\n",
    "\n",
    "def search(graph, colors, node, coloring):\n",
    "    \"\"\"Backtracking function to color the map.\"\"\"\n",
    "    if node not in graph:\n",
    "        return True\n",
    "    \n",
    "    for color in colors:\n",
    "        if promising(graph, node, color, coloring):\n",
    "            coloring[node] = color\n",
    "            next_node = next(iter(set(graph.keys()) - set(coloring.keys())), None)\n",
    "            if next_node is None or search(graph, colors, next_node, coloring):\n",
    "                return True\n",
    "            coloring.pop(node, None)\n",
    "    \n",
    "    return False\n",
    "\n",
    "colors = ['Red', 'Green', 'Blue']\n",
    "coloring = {}\n",
    "\n",
    "if search(graph, colors, 'WA', coloring):\n",
    "    print(\"Map coloring solution:\")\n",
    "    for region, color in coloring.items():\n",
    "        print(f\"{region}: {color}\")\n",
    "else:\n",
    "    print(\"No solution exists with the given colors.\")"
   ]
  },
  {
   "cell_type": "code",
   "execution_count": null,
   "metadata": {},
   "outputs": [],
   "source": [
    "# Show state space tree\n"
   ]
  }
 ],
 "metadata": {
  "kernelspec": {
   "display_name": "base",
   "language": "python",
   "name": "python3"
  },
  "language_info": {
   "codemirror_mode": {
    "name": "ipython",
    "version": 3
   },
   "file_extension": ".py",
   "mimetype": "text/x-python",
   "name": "python",
   "nbconvert_exporter": "python",
   "pygments_lexer": "ipython3",
   "version": "3.9.18"
  }
 },
 "nbformat": 4,
 "nbformat_minor": 2
}
