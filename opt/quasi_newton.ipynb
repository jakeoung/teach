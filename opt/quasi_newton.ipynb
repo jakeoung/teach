{
  "nbformat": 4,
  "nbformat_minor": 0,
  "metadata": {
    "colab": {
      "provenance": []
    },
    "kernelspec": {
      "name": "python3",
      "display_name": "Python 3"
    },
    "language_info": {
      "name": "python"
    }
  },
  "cells": [
    {
      "cell_type": "markdown",
      "source": [
        "## Tutorial for Quasi Newton methods\n",
        "\n",
        "Instructor: JaKeoung Koo @ Gachon University\n",
        "\n",
        "The goal is to miminimze\n",
        "$$f(x)=\\frac 12 x^T Ax + b^T x$$\n",
        "\n",
        "- $\\nabla f(x)=Ax+b$\n",
        "- $\\nabla^2 f(x)=A$\n",
        "- If $A$ is positive (semi)definite, the optimization problem is convex.\n",
        "- In this case, the solution $\\widehat{x}$ should satisfy $A\\widehat x = -b$.\n",
        "\n",
        "\n",
        "**Exercise 1.**\n",
        "\n",
        "Verify that if $A=\\begin{bmatrix}2&1\\\\1&2\\end{bmatrix}$ and $b=(-1,-2)$, then the solution $\\widehat x$ is given by $(0,1)$ and the optimal value $f(\\widehat x)$ is -1.\n",
        "\n"
      ],
      "metadata": {
        "id": "fhDkiOaVg8Fl"
      }
    },
    {
      "cell_type": "markdown",
      "source": [
        "**Line search**\n",
        "\n",
        "Rather than using fixed step size, we can choose a step size, using a scheme called line search. There are many algorithms for line search.\n",
        "\n",
        "Here, we use the simplest inexact line search method. We reduce the step size $\\alpha$ by half until it satisfies the condition:\n",
        "$$f(x - \\alpha H^{-1} \\nabla f(x)) < f(x)$$\n",
        "where $H$ is the approximated Hessian."
      ],
      "metadata": {
        "id": "NhFF7lH7wvQ5"
      }
    },
    {
      "cell_type": "code",
      "source": [
        "import numpy as np\n",
        "import matplotlib.pyplot as plt\n",
        "\n",
        "# SR1 Updates using Hessian\n",
        "def sr1_method_hessian(A, b, x0, max_iter=10, tol=1e-6):\n",
        "    x = np.array(x0)\n",
        "    n = len(x)\n",
        "    H = np.eye(n)  # Initial approximation of the Hessian\n",
        "    f_vals = []\n",
        "\n",
        "    for _ in range(max_iter):\n",
        "        f = 0.5*np.dot(x.transpose(), np.dot(A, x)) + np.dot(b.transpose(), x)\n",
        "        print(f\"objective function value: {f}\")\n",
        "\n",
        "        f_vals.append(f)\n",
        "        grad = A.dot(x) + b\n",
        "        if np.linalg.norm(grad) < tol:\n",
        "            break\n",
        "\n",
        "        B = np.linalg.pinv(H)\n",
        "        p = -np.dot(B, grad) # p: next step direction\n",
        "        alpha = line_search(A, b, x, p)\n",
        "\n",
        "        s = alpha * p # s=dx\n",
        "        x_new = x + s\n",
        "        y = (A.dot(x_new) + b) - grad\n",
        "\n",
        "        if abs((y-H.dot(s)).dot(s)) >= tol:\n",
        "            #----------------------------------------------------------\n",
        "            # Exercise2\n",
        "            # - Write your solution here for updating the Hessian\n",
        "            # - Think about why inverse Hessian updates are more efficient\n",
        "            #----------------------------------------------------------\n",
        "            pass\n",
        "\n",
        "\n",
        "        x = x_new\n",
        "\n",
        "    return x, f_vals\n",
        "\n",
        "\n",
        "# SR1 updates using inverse Hessian\n",
        "def sr1_method_inv_hessian(A, b, x0, max_iter=10, tol=1e-6):\n",
        "    x = np.array(x0)\n",
        "    n = len(x)\n",
        "    B = np.eye(n)  # Initial approximation of the inverse Hessian\n",
        "    f_vals = []\n",
        "\n",
        "    # eigvals = np.linalg.eigs(A)[0]\n",
        "\n",
        "    for _ in range(max_iter):\n",
        "        f = 0.5*np.dot(x.transpose(), np.dot(A, x)) + np.dot(b.transpose(), x)\n",
        "        print(f\"objective function value: {f}\")\n",
        "\n",
        "        f_vals.append(f)\n",
        "        grad = A.dot(x) + b\n",
        "        if np.linalg.norm(grad) < tol:\n",
        "            break\n",
        "\n",
        "        p = -np.dot(B, grad) # p: next step direction\n",
        "        alpha = line_search(A, b, x, p)\n",
        "        s = alpha * p # s=dx\n",
        "        x_new = x + s\n",
        "        y = (A.dot(x_new) + b) - grad\n",
        "\n",
        "        if abs((s-B.dot(y)).dot(y)) >= tol:\n",
        "            s_By = s - B.dot(y)\n",
        "            B += np.outer(s_By, s_By) / s_By.dot(y)\n",
        "\n",
        "        x = x_new\n",
        "\n",
        "    return x, f_vals\n",
        "\n",
        "\n",
        "def bfgs_method(A, b, x0, max_iter=10, tol=1e-6):\n",
        "    x = np.array(x0)\n",
        "    n = len(x)\n",
        "    B = np.eye(n)  # Initial approximation of the inverse Hessian\n",
        "    f_vals = []\n",
        "\n",
        "    for _ in range(max_iter):\n",
        "        f = 0.5*np.dot(x.transpose(), np.dot(A, x)) + np.dot(b.transpose(), x)\n",
        "        print(f\"objective function value: {f}\")\n",
        "\n",
        "        f_vals.append(f)\n",
        "\n",
        "        grad = A.dot(x) + b\n",
        "        if np.linalg.norm(grad) < tol:\n",
        "            break\n",
        "\n",
        "        p = -B.dot(grad)\n",
        "        alpha = line_search(A, b, x, p)\n",
        "        s = alpha * p\n",
        "        x_new = x + s\n",
        "        y = (A.dot(x_new) + b) - grad\n",
        "\n",
        "        rho = 1.0 / np.dot(y, s)\n",
        "        Isy = np.eye(n) - rho * np.outer(s, y)\n",
        "        B = np.dot(Isy, np.dot(B, Isy.T)) + rho * np.outer(s, s)\n",
        "\n",
        "        x = x_new\n",
        "\n",
        "    return x, f_vals\n",
        "\n",
        "\n",
        "def line_search(A, b, x, p):\n",
        "    alpha = 1.0\n",
        "    c = 0.5\n",
        "    f0 = 0.5 * np.dot(x, np.dot(A, x)) + np.dot(b, x)\n",
        "    g0 = np.dot(p, np.dot(A, x)) + np.dot(b, p)\n",
        "\n",
        "    for k in range(20):\n",
        "        f_next = 0.5 * np.dot((x + alpha * p), np.dot(A, (x + alpha * p))) + np.dot(b, (x + alpha * p))\n",
        "        if f_next < f0:\n",
        "            break\n",
        "\n",
        "        alpha *= 0.5\n",
        "\n",
        "    return alpha\n",
        "\n",
        "\n",
        "# Define the objective function parameters A and b\n",
        "A = np.array([[2, 1],\n",
        "              [1, 2]])\n",
        "b = np.array([-1, -2])\n",
        "x0 = [10.0, 1.0]\n",
        "\n",
        "# A = np.array([[2, 1, 0],\n",
        "#               [1, 2, 0], [1, 1, 2]])\n",
        "# b = np.array([-1, -2, 1])\n",
        "# x0 = [10.0, 1.0, 1]\n",
        "\n",
        "# Test the SR1 method\n",
        "solution_sr1, f_vals_sr1 = sr1_method_inv_hessian(A, b, x0)\n",
        "print(\"SR1 solution:\", solution_sr1)\n",
        "\n",
        "# Test the BFGS method\n",
        "solution_bfgs, f_vals_bfgs = bfgs_method(A, b, x0)\n",
        "print(\"BFGS solution:\", solution_bfgs)"
      ],
      "metadata": {
        "colab": {
          "base_uri": "https://localhost:8080/"
        },
        "id": "1kPtrb_Tdf2u",
        "outputId": "eb12b7e3-63e8-4ed8-917a-81ca7d28160d"
      },
      "execution_count": null,
      "outputs": [
        {
          "output_type": "stream",
          "name": "stdout",
          "text": [
            "objective function value: 99.0\n",
            "objective function value: 24.0\n",
            "objective function value: -1.0\n",
            "SR1 solution: [6.66133815e-16 1.00000000e+00]\n",
            "objective function value: 99.0\n",
            "objective function value: 24.0\n",
            "objective function value: -0.94533527696793\n",
            "objective function value: -0.9999567253670396\n",
            "objective function value: -0.999999994420579\n",
            "objective function value: -0.9999999999997338\n",
            "objective function value: -1.0\n",
            "BFGS solution: [1.28422823e-09 9.99999998e-01]\n"
          ]
        }
      ]
    },
    {
      "cell_type": "code",
      "source": [
        "plt.plot(f_vals_sr1, marker=\"+\", linestyle=\"dashdot\")\n",
        "plt.plot(f_vals_bfgs, linestyle=\"dashed\")\n",
        "# plt.yscale(\"log\")\n",
        "plt.legend([\"sr1 updates for inverse\", \"bfgs\"])\n",
        "plt.ylabel(\"objective function value\")\n",
        "plt.xlabel(\"iteration\")"
      ],
      "metadata": {
        "colab": {
          "base_uri": "https://localhost:8080/",
          "height": 467
        },
        "id": "HVyqtqONprc1",
        "outputId": "73810fb1-7e78-4b1d-bbcc-d5ee2584b92e"
      },
      "execution_count": null,
      "outputs": [
        {
          "output_type": "execute_result",
          "data": {
            "text/plain": [
              "Text(0.5, 0, 'iteration')"
            ]
          },
          "metadata": {},
          "execution_count": 8
        },
        {
          "output_type": "display_data",
          "data": {
            "text/plain": [
              "<Figure size 640x480 with 1 Axes>"
            ],
            "image/png": "[encoded data removed]"
          },
          "metadata": {}
        }
      ]
    },
    {
      "cell_type": "code",
      "source": [],
      "metadata": {
        "id": "2YP-H3fv9daB"
      },
      "execution_count": null,
      "outputs": []
    }
  ]
}